{
 "cells": [
  {
   "cell_type": "code",
   "execution_count": 17,
   "metadata": {},
   "outputs": [
    {
     "name": "stdout",
     "output_type": "stream",
     "text": [
      "/Users/sambaran/anaconda/lib/python2.7/site-packages/gensim/utils.py:1015: UserWarning: Pattern library is not installed, lemmatization won't be available.\n",
      "  warnings.warn(\"Pattern library is not installed, lemmatization won't be available.\")\n",
      "('Number of nodes in the original graph : ', 3312)\n",
      "('Number of edges in the original graph : ', 4660)\n",
      "Walk iteration:\n",
      "1 / 10\n",
      "2 / 10\n",
      "3 / 10\n",
      "4 / 10\n",
      "5 / 10\n",
      "6 / 10\n",
      "7 / 10\n",
      "8 / 10\n",
      "9 / 10\n",
      "10 / 10\n",
      "('Number of walks : ', 43730)\n",
      "Initial value of hyper-parameters :: alpha = 0.1 beta = 0.1 eta = 0.01 gamma = 100\n",
      "Iteration number 0\n",
      "At iteration = 1, Hyper-parameters eta = 0.01 and beta = 0.1\n",
      "Penalty error after iteration 1 :: 11516.015476561526\n",
      "Radial error after iteration 1 :: 5164.1745950662735\n",
      "Negative radii error after iteration 1 is 0.0\n",
      "Iteration number 1\n",
      "At iteration = 2, Hyper-parameters eta = 0.01 and beta = 0.2\n",
      "Penalty error after iteration 2 :: 28990.248608910646\n",
      "Radial error after iteration 2 :: 5198.007033448936\n",
      "Negative radii error after iteration 2 is 0.0\n",
      "Iteration number 2\n",
      "At iteration = 3, Hyper-parameters eta = 0.01 and beta = 0.4\n",
      "Penalty error after iteration 3 :: 42215.19223956401\n",
      "Radial error after iteration 3 :: 5313.510030107569\n",
      "Negative radii error after iteration 3 is 0.0\n",
      "Iteration number 3\n",
      "At iteration = 4, Hyper-parameters eta = 0.01 and beta = 0.8\n",
      "Penalty error after iteration 4 :: 47889.046552279986\n",
      "Radial error after iteration 4 :: 5601.428895540263\n",
      "Negative radii error after iteration 4 is 0.0\n",
      "Iteration number 4\n",
      "At iteration = 5, Hyper-parameters eta = 0.01 and beta = 1.6\n",
      "Penalty error after iteration 5 :: 41481.828331818215\n",
      "Radial error after iteration 5 :: 6215.507926047782\n",
      "Negative radii error after iteration 5 is 0.0\n",
      "Iteration number 5\n",
      "At iteration = 6, Hyper-parameters eta = 0.01 and beta = 3.2\n",
      "Penalty error after iteration 6 :: 24428.302481996703\n",
      "Radial error after iteration 6 :: 7311.817581340474\n",
      "Negative radii error after iteration 6 is 0.0\n",
      "Iteration number 6\n",
      "At iteration = 7, Hyper-parameters eta = 0.005 and beta = 6.4\n",
      "Penalty error after iteration 7 :: 16906.974600897345\n",
      "Radial error after iteration 7 :: 8167.4306290372015\n",
      "Negative radii error after iteration 7 is 0.0\n",
      "Iteration number 7\n",
      "At iteration = 8, Hyper-parameters eta = 0.005 and beta = 12.8\n",
      "Penalty error after iteration 8 :: 6171.321105037064\n",
      "Radial error after iteration 8 :: 9121.623528976552\n",
      "Negative radii error after iteration 8 is 0.0\n",
      "Iteration number 8\n",
      "At iteration = 9, Hyper-parameters eta = 0.0025 and beta = 25.6\n",
      "Penalty error after iteration 9 :: 3418.3745128083374\n",
      "Radial error after iteration 9 :: 9716.038469577208\n",
      "Negative radii error after iteration 9 is 0.0\n",
      "Iteration number 9\n",
      "At iteration = 10, Hyper-parameters eta = 0.0025 and beta = 51.2\n",
      "Penalty error after iteration 10 :: 786.9200358468935\n",
      "Radial error after iteration 10 :: 10112.060164898367\n",
      "Negative radii error after iteration 10 is 0.0\n",
      "Iteration number 10\n",
      "At iteration = 11, Hyper-parameters eta = 0.00125 and beta = 102.4\n",
      "Penalty error after iteration 11 :: 298.2100467045388\n",
      "Radial error after iteration 11 :: 10341.426718312125\n",
      "Negative radii error after iteration 11 is 0.0\n",
      "Iteration number 11\n",
      "At iteration = 12, Hyper-parameters eta = 0.00125 and beta = 204.8\n",
      "Penalty error after iteration 12 :: 3.3789862735665697\n",
      "Radial error after iteration 12 :: 10436.760313230043\n",
      "Negative radii error after iteration 12 is 0.0\n",
      "Iteration number 12\n",
      "At iteration = 13, Hyper-parameters eta = 0.000625 and beta = 409.6\n",
      "Penalty error after iteration 13 :: 0.5525371232283138\n",
      "Radial error after iteration 13 :: 10453.386075368582\n",
      "Negative radii error after iteration 13 is 0.0\n",
      "Iteration number 13\n",
      "Penalty Error increases significantly iteration 14, So stopped increasing beta and did the roll back\n",
      "Iteration number 14\n",
      "At iteration = 15, Hyper-parameters eta = 0.000625 and beta = 409.6\n",
      "Penalty error after iteration 15 :: 24.84428096222702\n",
      "Radial error after iteration 15 :: 17683.701898588868\n",
      "Negative radii error after iteration 15 is 0.0\n",
      "Iteration number 15\n",
      "At iteration = 16, Hyper-parameters eta = 0.000625 and beta = 409.6\n",
      "Penalty error after iteration 16 :: 2.5975617478536757\n",
      "Radial error after iteration 16 :: 17853.11316348417\n",
      "Negative radii error after iteration 16 is 0.0\n",
      "Iteration number 16\n",
      "At iteration = 17, Hyper-parameters eta = 0.0003125 and beta = 409.6\n",
      "Penalty error after iteration 17 :: 2.4496457078461322\n",
      "Radial error after iteration 17 :: 18408.074486512833\n",
      "Negative radii error after iteration 17 is 0.0\n",
      "Iteration number 17\n",
      "At iteration = 18, Hyper-parameters eta = 0.0003125 and beta = 409.6\n",
      "Penalty error after iteration 18 :: 1.4118397122001194\n",
      "Radial error after iteration 18 :: 18604.75394421473\n",
      "Negative radii error after iteration 18 is 0.0\n",
      "Iteration number 18\n",
      "At iteration = 19, Hyper-parameters eta = 0.00015625 and beta = 409.6\n",
      "Penalty error after iteration 19 :: 9.891551103386831\n",
      "Radial error after iteration 19 :: 19471.061612073834\n",
      "Negative radii error after iteration 19 is 0.0\n",
      "Iteration number 19\n",
      "At iteration = 20, Hyper-parameters eta = 0.00015625 and beta = 409.6\n",
      "Penalty error after iteration 20 :: 11.520387490825138\n",
      "Radial error after iteration 20 :: 20046.609386380056\n",
      "Negative radii error after iteration 20 is 0.0\n",
      "<matplotlib.figure.Figure at 0x10b1781d0>\n",
      "<matplotlib.figure.Figure at 0x120b25d10>\n",
      "<matplotlib.figure.Figure at 0x120ba5d90>\n"
     ]
    }
   ],
   "source": [
    "import matplotlib\n",
    "import matplotlib.pyplot as plt\n",
    "dataset = 'citeseer'\n",
    "l2viter = 20\n",
    "edgelistPath = '../data/{}/{}.edgelist'.format(dataset,dataset)\n",
    "outputPath = '../embed/{}/{}{}.embed'.format(dataset,dataset,l2viter)\n",
    "linegraphPath = '../data/{}/{}_line.edgelist'.format(dataset,dataset)\n",
    "\n",
    "#For running it for the first time with the respective dataset\n",
    "# !python main.py --weighted --scratch --input {edgelistPath} --dataset {dataset} --output {outputPath} --dimensions=4 --line-graph {linegraphPath} --l2v-iter={l2viter} --iter=2\n",
    "\n",
    "#When the line graph is already built\n",
    "!python main.py --weighted --input {edgelistPath} --dataset {dataset} --output {outputPath} --dimensions=4 --line-graph {linegraphPath} --l2v-iter={l2viter} --iter=2"
   ]
  },
  {
   "cell_type": "code",
   "execution_count": 24,
   "metadata": {},
   "outputs": [
    {
     "data": {
      "text/plain": [
       "[1, 2, 4]"
      ]
     },
     "execution_count": 24,
     "metadata": {},
     "output_type": "execute_result"
    }
   ],
   "source": [
    "x=[1,2]\n",
    "x.append(4)\n",
    "x"
   ]
  },
  {
   "cell_type": "code",
   "execution_count": 32,
   "metadata": {
    "collapsed": true
   },
   "outputs": [],
   "source": [
    "import numpy as np\n",
    "x = np.array([1,2])\n",
    "y = np.array([3,4])"
   ]
  },
  {
   "cell_type": "code",
   "execution_count": 30,
   "metadata": {},
   "outputs": [
    {
     "data": {
      "text/plain": [
       "array([[1, 2],\n",
       "       [3, 4]])"
      ]
     },
     "execution_count": 30,
     "metadata": {},
     "output_type": "execute_result"
    }
   ],
   "source": [
    "x"
   ]
  },
  {
   "cell_type": "code",
   "execution_count": 33,
   "metadata": {},
   "outputs": [
    {
     "data": {
      "text/plain": [
       "2.8284271247461903"
      ]
     },
     "execution_count": 33,
     "metadata": {},
     "output_type": "execute_result"
    }
   ],
   "source": [
    "np.linalg.norm(x-y)"
   ]
  },
  {
   "cell_type": "code",
   "execution_count": 44,
   "metadata": {},
   "outputs": [
    {
     "data": {
      "text/plain": [
       "[1, 2, 3, 4, 5, 6, 7, 8, 9]"
      ]
     },
     "execution_count": 44,
     "metadata": {},
     "output_type": "execute_result"
    }
   ],
   "source": [
    "range(1,10)"
   ]
  },
  {
   "cell_type": "code",
   "execution_count": 6,
   "metadata": {
    "collapsed": true
   },
   "outputs": [],
   "source": [
    "x=[1,6,3]"
   ]
  },
  {
   "cell_type": "code",
   "execution_count": 57,
   "metadata": {},
   "outputs": [
    {
     "data": {
      "image/png": "[encoded data removed]",
      "text/plain": [
       "<matplotlib.figure.Figure at 0x11050ae50>"
      ]
     },
     "metadata": {},
     "output_type": "display_data"
    }
   ],
   "source": [
    "import matplotlib.pyplot as plt\n",
    "plt.plot(range(1,len(x)+1), x)\n",
    "plt.ylabel('Constraint Penalty Error')\n",
    "plt.xlabel('Iterations')\n",
    "plt.show()"
   ]
  },
  {
   "cell_type": "code",
   "execution_count": 7,
   "metadata": {},
   "outputs": [
    {
     "data": {
      "text/plain": [
       "[1, 6, 3]"
      ]
     },
     "execution_count": 7,
     "metadata": {},
     "output_type": "execute_result"
    }
   ],
   "source": [
    "x"
   ]
  },
  {
   "cell_type": "code",
   "execution_count": 10,
   "metadata": {},
   "outputs": [
    {
     "data": {
      "text/plain": [
       "[10, 10, 10]"
      ]
     },
     "execution_count": 10,
     "metadata": {},
     "output_type": "execute_result"
    }
   ],
   "source": [
    "[10]*len(x)"
   ]
  },
  {
   "cell_type": "code",
   "execution_count": 13,
   "metadata": {},
   "outputs": [
    {
     "data": {
      "text/plain": [
       "-2.3"
      ]
     },
     "execution_count": 13,
     "metadata": {},
     "output_type": "execute_result"
    }
   ],
   "source": [
    "min(0,-2.3)"
   ]
  },
  {
   "cell_type": "code",
   "execution_count": null,
   "metadata": {
    "collapsed": true
   },
   "outputs": [],
   "source": []
  }
 ],
 "metadata": {
  "kernelspec": {
   "display_name": "Python 2",
   "language": "python",
   "name": "python2"
  },
  "language_info": {
   "codemirror_mode": {
    "name": "ipython",
    "version": 2
   },
   "file_extension": ".py",
   "mimetype": "text/x-python",
   "name": "python",
   "nbconvert_exporter": "python",
   "pygments_lexer": "ipython2",
   "version": "2.7.13"
  }
 },
 "nbformat": 4,
 "nbformat_minor": 2
}
