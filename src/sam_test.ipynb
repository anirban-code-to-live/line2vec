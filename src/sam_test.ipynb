{
 "cells": [
  {
   "cell_type": "code",
   "execution_count": 22,
   "metadata": {},
   "outputs": [
    {
     "name": "stdout",
     "output_type": "stream",
     "text": [
      "/Users/sambaran/anaconda/lib/python2.7/site-packages/gensim/utils.py:1015: UserWarning: Pattern library is not installed, lemmatization won't be available.\n",
      "  warnings.warn(\"Pattern library is not installed, lemmatization won't be available.\")\n",
      "('Number of nodes in the original graph : ', 62)\n",
      "('Number of edges in the original graph : ', 159)\n",
      "Walk iteration:\n",
      "1 / 10\n",
      "2 / 10\n",
      "3 / 10\n",
      "4 / 10\n",
      "5 / 10\n",
      "6 / 10\n",
      "7 / 10\n",
      "8 / 10\n",
      "9 / 10\n",
      "10 / 10\n",
      "('Number of walks : ', 1590)\n",
      "Initial value of hyper-parameters :: beta = 0.1 eta = 0.1\n",
      "('Penalty error after iteration 1', array([[193.26560443]]))\n",
      "After iteration = 1, Hyper-parameters eta = 0.1 and beta = 0.2\n",
      "('Penalty error after iteration 2', array([[124.88404727]]))\n",
      "After iteration = 2, Hyper-parameters eta = 0.05 and beta = 0.4\n",
      "('Penalty error after iteration 3', array([[84.42561377]]))\n",
      "After iteration = 3, Hyper-parameters eta = 0.05 and beta = 0.8\n",
      "('Penalty error after iteration 4', array([[33.35760097]]))\n",
      "After iteration = 4, Hyper-parameters eta = 0.025 and beta = 1.6\n",
      "('Penalty error after iteration 5', array([[15.71759007]]))\n",
      "After iteration = 5, Hyper-parameters eta = 0.025 and beta = 3.2\n",
      "('Penalty error after iteration 6', array([[0.55949894]]))\n",
      "After iteration = 6, Hyper-parameters eta = 0.0125 and beta = 6.4\n",
      "('Penalty error after iteration 7', array([[0.0579022]]))\n",
      "After iteration = 7, Hyper-parameters eta = 0.0125 and beta = 12.8\n",
      "('Penalty error after iteration 8', array([[0.07311722]]))\n",
      "After iteration = 8, Hyper-parameters eta = 0.00625 and beta = 25.6\n",
      "('Penalty error after iteration 9', 0.0)\n",
      "After iteration = 9, Hyper-parameters eta = 0.00625 and beta = 51.2\n",
      "('Penalty error after iteration 10', array([[0.00848791]]))\n",
      "After iteration = 10, Hyper-parameters eta = 0.003125 and beta = 102.4\n",
      "('Penalty error after iteration 11', 0.0)\n",
      "After iteration = 11, Hyper-parameters eta = 0.003125 and beta = 204.8\n",
      "('Penalty error after iteration 12', array([[481.22841363]]))\n",
      "After iteration = 12, Hyper-parameters eta = 0.0015625 and beta = 409.6\n",
      "('Penalty error after iteration 13', array([[54483.59709079]]))\n",
      "After iteration = 13, Hyper-parameters eta = 0.0015625 and beta = 819.2\n",
      "('Penalty error after iteration 14', array([[3.90658865e+08]]))\n",
      "After iteration = 14, Hyper-parameters eta = 0.00078125 and beta = 1638.4\n",
      "('Penalty error after iteration 15', array([[1.89527303e+12]]))\n",
      "After iteration = 15, Hyper-parameters eta = 0.00078125 and beta = 3276.8\n",
      "('Penalty error after iteration 16', array([[2.37392969e+17]]))\n",
      "After iteration = 16, Hyper-parameters eta = 0.000390625 and beta = 6553.6\n",
      "('Penalty error after iteration 17', array([[3.11156148e+22]]))\n",
      "After iteration = 17, Hyper-parameters eta = 0.000390625 and beta = 13107.2\n",
      "('Penalty error after iteration 18', array([[7.73285022e+28]]))\n",
      "After iteration = 18, Hyper-parameters eta = 0.0001953125 and beta = 26214.4\n",
      "('Penalty error after iteration 19', array([[1.93655303e+35]]))\n",
      "After iteration = 19, Hyper-parameters eta = 0.0001953125 and beta = 52428.8\n",
      "('Penalty error after iteration 20', array([[8.36993023e+42]]))\n",
      "After iteration = 20, Hyper-parameters eta = 9.765625e-05 and beta = 104857.6\n"
     ]
    }
   ],
   "source": [
    "dataset = 'dolphins'\n",
    "l2viter = 20\n",
    "edgelistPath = '../data/{}/{}.edgelist'.format(dataset,dataset)\n",
    "outputPath = '../embed/{}/{}{}.embed'.format(dataset,dataset,l2viter)\n",
    "linegraphPath = '../data/{}/{}_line.edgelist'.format(dataset,dataset)\n",
    "!python main.py --input {edgelistPath} --output {outputPath} --dimensions=4 --line-graph {linegraphPath} --l2v-iter={l2viter} --iter=2\n"
   ]
  },
  {
   "cell_type": "code",
   "execution_count": null,
   "metadata": {
    "collapsed": true
   },
   "outputs": [],
   "source": []
  }
 ],
 "metadata": {
  "kernelspec": {
   "display_name": "Python 2",
   "language": "python",
   "name": "python2"
  },
  "language_info": {
   "codemirror_mode": {
    "name": "ipython",
    "version": 2
   },
   "file_extension": ".py",
   "mimetype": "text/x-python",
   "name": "python",
   "nbconvert_exporter": "python",
   "pygments_lexer": "ipython2",
   "version": "2.7.13"
  }
 },
 "nbformat": 4,
 "nbformat_minor": 2
}
