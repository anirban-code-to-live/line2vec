{
 "cells": [
  {
   "cell_type": "code",
   "execution_count": 7,
   "metadata": {},
   "outputs": [],
   "source": [
    "import networkx as nx\n",
    "import numpy as np\n",
    "import os\n",
    "import pickle\n",
    "import scipy.io as sio\n",
    "from scipy import sparse"
   ]
  },
  {
   "cell_type": "markdown",
   "metadata": {},
   "source": [
    "## Construct graph paths for different datasets"
   ]
  },
  {
   "cell_type": "code",
   "execution_count": 8,
   "metadata": {},
   "outputs": [
    {
     "name": "stdout",
     "output_type": "stream",
     "text": [
      "Graph path ::  /Users/anirban/Documents/IISC-Study/Project/Repos/line2vec/data/synthetic/link_structure.edgelist\n"
     ]
    }
   ],
   "source": [
    "graph_base_path = os.path.dirname(os.path.dirname(os.path.dirname(os.path.realpath('__file__'))))\n",
    "graph_name = 'synthetic'\n",
    "graph_path = os.path.join(graph_base_path, 'data' , graph_name, 'link_structure.edgelist')\n",
    "print('Graph path :: ', graph_path)"
   ]
  },
  {
   "cell_type": "markdown",
   "metadata": {},
   "source": [
    "## Load graph from edgelist file and convert it to line graph"
   ]
  },
  {
   "cell_type": "code",
   "execution_count": 19,
   "metadata": {},
   "outputs": [
    {
     "name": "stdout",
     "output_type": "stream",
     "text": [
      "30\n",
      "[(0, 1), (0, 3), (0, 4), (0, 5), (0, 11), (1, 2), (1, 3), (1, 4), (3, 2), (3, 10), (4, 2), (5, 8), (5, 6), (5, 7), (11, 10), (11, 12), (11, 13), (11, 14), (10, 12), (10, 13), (10, 14), (8, 6), (8, 7), (8, 9), (6, 9), (6, 7), (7, 9), (12, 13), (12, 14), (13, 14)]\n",
      "30\n",
      "[((5, 7), (6, 7)), ((5, 7), (7, 8)), ((5, 7), (5, 8)), ((5, 7), (5, 6)), ((5, 7), (0, 5)), ((5, 7), (7, 9)), ((6, 7), (6, 9)), ((6, 7), (7, 9)), ((6, 7), (7, 8)), ((6, 7), (6, 8)), ((6, 7), (5, 6)), ((3, 10), (10, 14)), ((3, 10), (10, 12)), ((3, 10), (10, 11)), ((3, 10), (2, 3)), ((3, 10), (0, 3)), ((3, 10), (1, 3)), ((3, 10), (10, 13)), ((10, 14), (10, 12)), ((10, 14), (12, 14)), ((10, 14), (11, 14)), ((10, 14), (13, 14)), ((10, 14), (10, 11)), ((10, 14), (10, 13)), ((7, 8), (7, 9)), ((7, 8), (6, 8)), ((7, 8), (5, 8)), ((7, 8), (8, 9)), ((10, 12), (10, 11)), ((10, 12), (11, 12)), ((10, 12), (12, 13)), ((10, 12), (10, 13)), ((10, 12), (12, 14)), ((10, 13), (11, 13)), ((10, 13), (12, 13)), ((10, 13), (13, 14)), ((10, 13), (10, 11)), ((11, 13), (11, 12)), ((11, 13), (10, 11)), ((11, 13), (11, 14)), ((11, 13), (12, 13)), ((11, 13), (13, 14)), ((11, 13), (0, 11)), ((5, 8), (5, 6)), ((5, 8), (8, 9)), ((5, 8), (6, 8)), ((5, 8), (0, 5)), ((5, 6), (6, 9)), ((5, 6), (0, 5)), ((5, 6), (6, 8)), ((1, 2), (1, 3)), ((1, 2), (0, 1)), ((1, 2), (1, 4)), ((1, 2), (2, 4)), ((1, 2), (2, 3)), ((1, 3), (0, 3)), ((1, 3), (1, 4)), ((1, 3), (2, 3)), ((1, 3), (0, 1)), ((0, 1), (0, 11)), ((0, 1), (0, 5)), ((0, 1), (0, 3)), ((0, 1), (0, 4)), ((0, 1), (1, 4)), ((0, 11), (11, 14)), ((0, 11), (10, 11)), ((0, 11), (11, 12)), ((0, 11), (0, 5)), ((0, 11), (0, 3)), ((0, 11), (0, 4)), ((11, 12), (11, 14)), ((11, 12), (10, 11)), ((11, 12), (12, 14)), ((11, 12), (12, 13)), ((11, 14), (10, 11)), ((11, 14), (12, 14)), ((11, 14), (13, 14)), ((6, 8), (6, 9)), ((6, 8), (8, 9)), ((6, 9), (7, 9)), ((6, 9), (8, 9)), ((7, 9), (8, 9)), ((1, 4), (0, 4)), ((1, 4), (2, 4)), ((12, 13), (12, 14)), ((12, 13), (13, 14)), ((12, 14), (13, 14)), ((0, 5), (0, 4)), ((0, 5), (0, 3)), ((0, 3), (0, 4)), ((0, 3), (2, 3)), ((2, 3), (2, 4)), ((2, 4), (0, 4))]\n"
     ]
    }
   ],
   "source": [
    "G = nx.read_edgelist(graph_path, nodetype=int)\n",
    "print(len(G.edges()))\n",
    "print(G.edges)\n",
    "L = nx.line_graph(G)\n",
    "print(len(L.nodes()))\n",
    "print(L.edges)"
   ]
  },
  {
   "cell_type": "markdown",
   "metadata": {},
   "source": [
    "## Build dictionary of modified edge weights for original graph\n",
    "\n",
    "For each undirected edge in $e=(v_i, v_j) \\in E(G)$, evaluate the edge-weight $w_{ij}$ using the following equation : <br><br>&emsp;&emsp;&emsp;\n",
    "$w_{ij} = max(\\frac{D}{d_i*d_j} + \\epsilon, \\epsilon)$.\n",
    "<br> \n",
    "<br>$D$ = Total degree of the graph = $2*|E|$, \n",
    "<br>$d_i$ = Degree of the vertex $v_i$, \n",
    "<br>$d_j$ = Degree of the vertex $v_j$\n",
    "\n",
    "Here the assumption being the original graph $G=(V, E)$ is unweighted."
   ]
  },
  {
   "cell_type": "code",
   "execution_count": 23,
   "metadata": {},
   "outputs": [
    {
     "name": "stdout",
     "output_type": "stream",
     "text": [
      "60\n",
      "{(0, 1): 1.0986222886681098, (0, 3): 1.0986222886681098, (0, 4): 1.3863043611198906, (0, 5): 1.0986222886681098, (0, 11): 0.8754787373538998, (1, 2): 1.6094479124341003, (1, 3): 1.3217658399823196, (1, 4): 1.6094479124341003, (2, 3): 1.6094479124341003, (3, 10): 1.0986222886681098, (2, 4): 1.8971299848858814, (5, 8): 1.3217658399823196, (5, 6): 1.3217658399823196, (5, 7): 1.3217658399823196, (10, 11): 0.8754787373538998, (11, 12): 1.0986222886681098, (11, 13): 1.0986222886681098, (11, 14): 1.0986222886681098, (10, 12): 1.0986222886681098, (10, 13): 1.0986222886681098, (10, 14): 1.0986222886681098, (6, 8): 1.3217658399823196, (7, 8): 1.3217658399823196, (8, 9): 1.6094479124341003, (6, 9): 1.6094479124341003, (6, 7): 1.3217658399823196, (7, 9): 1.6094479124341003, (12, 13): 1.3217658399823196, (12, 14): 1.3217658399823196, (13, 14): 1.3217658399823196}\n"
     ]
    }
   ],
   "source": [
    "# print(G.degree())\n",
    "epsilon = 0.00001  # hyper-parameter of the model\n",
    "degree_dict = dict(G.degree())\n",
    "total_degree = np.sum(list(degree_dict.values()))\n",
    "print(total_degree)\n",
    "# print(total_degree)\n",
    "edge_weight_dict = {}\n",
    "for edge in G.edges():\n",
    "    sorted_edge = tuple(sorted(edge))\n",
    "    start_vertex = edge[0]\n",
    "    end_vertex = edge[1]\n",
    "    start_vertex_degree = degree_dict[start_vertex]\n",
    "    end_vertex_degree = degree_dict[end_vertex]\n",
    "    edge_weight = max(np.log(float(total_degree) / (start_vertex_degree * end_vertex_degree)) + epsilon, epsilon)\n",
    "    edge_weight_dict[sorted_edge] = edge_weight\n",
    "print(edge_weight_dict)"
   ]
  },
  {
   "cell_type": "markdown",
   "metadata": {},
   "source": [
    "## Build dictionary of weighted degree of nodes \n",
    "This is measured based on the weights of edges associated with a node of the original graph calculated previously. For any node $v_i \\in V(G)$, if the outgoing edges associated with it are denoted by $e_{ik}$ for those $k$ such that $e_{ik} \\in E(G)$, then the weighted degree is as follows: <br>\n",
    "\n",
    "&emsp;&emsp;&emsp;&emsp;&emsp;&emsp;&emsp;&emsp;&emsp;\n",
    "$d^{'}_{i} = \\sum_{k}{w_{ik}}$"
   ]
  },
  {
   "cell_type": "code",
   "execution_count": 24,
   "metadata": {},
   "outputs": [],
   "source": [
    "weighted_degree_dict = {}\n",
    "for node in G.nodes():\n",
    "    weight = 0\n",
    "    for neighbor in G.neighbors(node):\n",
    "        if((node, neighbor) in edge_weight_dict):\n",
    "            weight += edge_weight_dict[(node, neighbor)]\n",
    "        else:\n",
    "            weight += edge_weight_dict[(neighbor, node)]\n",
    "    weighted_degree_dict[node] = weight\n",
    "# print(weighted_degree_dict)"
   ]
  },
  {
   "cell_type": "markdown",
   "metadata": {},
   "source": [
    "## Build weighted line graph \n",
    "\n",
    "In the original graph, two undirected edges $e_{ij}$ and $e_{jk}$ are adjacent if and only if $v_j$ is the common vertex of $e_{ij}$ and $e_{jk}$. We define the edge weight $w^{L}_{\\{i,k\\}}$for $e^{L}_{ik}$ for the line graph $L(G)$ as averaged weights of two directed edges $e^{L}_{ik}$ and $e^{L}_{ki}$, as follows: <br>\n",
    "\n",
    "&emsp;&emsp;&emsp;&emsp;&emsp;\n",
    "$ w^L_{ik} = \\frac{d_i}{d_i + d_j} \\times \\frac{w_{jk}} {\\sum_{l=1}^{|V|}{w_{jl}} - w_{ij}} = \\frac{d_i}{d_i + d_j} \\times \\frac{w_{jk}} {{d^{'}_{j}} - w_{ij}}$\n",
    "\n",
    "&emsp;&emsp;&emsp;&emsp;&emsp;\n",
    "$ w^L_{ki} = \\frac{d_k}{d_k + d_j} \\times \\frac{w_{ji}} {\\sum_{l=1}^{|V|}{w_{jl}} - w_{kj}} = \\frac{d_k}{d_j + d_k} \\times \\frac{w_{ji}} {{d^{'}_{j}} - w_{kj}}$\n",
    "\n",
    "&emsp;&emsp;&emsp;&emsp;&emsp;\n",
    "$ w^{L}_{\\{i,k\\}} = \\frac{w^L_{ik} + w^L_{ki}}{2}$"
   ]
  },
  {
   "cell_type": "code",
   "execution_count": 31,
   "metadata": {},
   "outputs": [],
   "source": [
    "line_graph_edge_weight_dict = {}\n",
    "for line_graph_edge in L.edges():\n",
    "    original_graph_edge_1 = line_graph_edge[0]\n",
    "    original_graph_edge_2 = line_graph_edge[1]\n",
    "    common_vertex = set(original_graph_edge_1).intersection(set(original_graph_edge_2))\n",
    "    start_vertex = set(original_graph_edge_1).difference(common_vertex)\n",
    "    end_vertex = set(original_graph_edge_2).difference(common_vertex)\n",
    "    if(len(common_vertex) == 1 and len(start_vertex) != 0 and len(end_vertex) != 0):\n",
    "        common_vertex = list(common_vertex)[0]\n",
    "        start_vertex = list(start_vertex)[0]\n",
    "        end_vertex = list(end_vertex)[0]\n",
    "    else:\n",
    "        # Handle the odd case of self-loops or parallel-edges\n",
    "        common_vertex = original_graph_edge_src[1]\n",
    "        start_vertex = original_graph_edge_src[0]\n",
    "        end_vertex = original_graph_edge_dest[1]\n",
    "\n",
    "    degree_start_vertex_edge_1 = degree_dict[start_vertex]\n",
    "    degree_end_vertex_edge_1 = degree_dict[common_vertex]\n",
    "    if (degree_start_vertex_edge_1 == 1):\n",
    "        weight_contri_src_edge_1 = 1\n",
    "    else:\n",
    "        weight_contri_src_edge_1 = float(degree_start_vertex_edge_1)/ (degree_start_vertex_edge_1 + degree_end_vertex_edge_1)\n",
    "    \n",
    "    weight_dest_edge = edge_weight_dict[original_graph_edge_2]\n",
    "    weight_src_edge = edge_weight_dict[original_graph_edge_1]\n",
    "    weighted_degree_common_vertex = weighted_degree_dict[common_vertex]\n",
    "    if((weighted_degree_common_vertex - weight_src_edge) == 0):\n",
    "        print('In impossible case!')\n",
    "        weight_contri_dest_edge_1 = 0\n",
    "    else:\n",
    "        weight_contri_dest_edge_1 = float(weight_dest_edge)/(weighted_degree_common_vertex - weight_src_edge)\n",
    "    line_graph_edge_weight_1 = weight_contri_src_edge_1 * weight_contri_dest_edge_1\n",
    "#     line_graph_edge_weight_dict[line_graph_edge] = line_graph_edge_weight\n",
    "    \n",
    "    \n",
    "    \n",
    "    degree_start_vertex_edge_2 = degree_dict[end_vertex]\n",
    "    degree_end_vertex_edge_2 = degree_dict[common_vertex]\n",
    "    if (degree_end_vertex_edge_2 == 1):\n",
    "        weight_contri_src_edge_2 = 1\n",
    "    else:\n",
    "        weight_contri_src_edge_2 = float(degree_start_vertex_edge_2)/ (degree_start_vertex_edge_2 + degree_end_vertex_edge_2)\n",
    "    \n",
    "    weight_dest_edge = edge_weight_dict[original_graph_edge_1]\n",
    "    weight_src_edge = edge_weight_dict[original_graph_edge_2]\n",
    "    weighted_degree_common_vertex = weighted_degree_dict[common_vertex]\n",
    "    if((weighted_degree_common_vertex - weight_src_edge) == 0):\n",
    "        print('In impossible case!')\n",
    "        weight_contri_dest_edge_2 = 0\n",
    "    else:\n",
    "        weight_contri_dest_edge_2 = float(weight_dest_edge)/(weighted_degree_common_vertex - weight_src_edge)\n",
    "    line_graph_edge_weight_2 = weight_contri_src_edge_2 * weight_contri_dest_edge_2\n",
    "    line_graph_edge_weight_dict[line_graph_edge] = (line_graph_edge_weight_1 + line_graph_edge_weight_2)/2\n",
    "# print(line_graph_edge_weight_dict)"
   ]
  },
  {
   "cell_type": "markdown",
   "metadata": {},
   "source": [
    "## Define path for the line graph"
   ]
  },
  {
   "cell_type": "code",
   "execution_count": 7,
   "metadata": {
    "scrolled": true
   },
   "outputs": [
    {
     "name": "stdout",
     "output_type": "stream",
     "text": [
      "Line graph path ::  /storage/home1/e0202-6/edge-to-vec/data/synthetic_4cluster/dual_link_structure.edgelist\n"
     ]
    }
   ],
   "source": [
    "line_graph_path = os.path.join(graph_base_path, 'data', graph_name, 'dual_link_structure.edgelist')\n",
    "print 'Line graph path :: ', line_graph_path\n",
    "# nx.write_edgelist(L, line_graph_path)"
   ]
  },
  {
   "cell_type": "markdown",
   "metadata": {},
   "source": [
    "## Map graph edges to unique integer index - useful for line graph"
   ]
  },
  {
   "cell_type": "code",
   "execution_count": 8,
   "metadata": {},
   "outputs": [
    {
     "name": "stdout",
     "output_type": "stream",
     "text": [
      "112\n",
      "112\n"
     ]
    }
   ],
   "source": [
    "edge_dict = {}\n",
    "index = 0\n",
    "print(len(G.edges()))\n",
    "for edge in G.edges():\n",
    "    edge_dict[edge] = index\n",
    "    index += 1\n",
    "\n",
    "print len(edge_dict)"
   ]
  },
  {
   "cell_type": "markdown",
   "metadata": {},
   "source": [
    "## Store line graph edges based on the previously constructed map"
   ]
  },
  {
   "cell_type": "code",
   "execution_count": 9,
   "metadata": {},
   "outputs": [],
   "source": [
    "# print L.edges()\n",
    "edge_count = len(L.edges())\n",
    "line_graph_edges = list(L.edges())\n",
    "L_new = nx.Graph()\n",
    "# print sorted_edges\n",
    "for i in range(edge_count):\n",
    "    edge = line_graph_edges[i]\n",
    "    start_vertex = edge[0]\n",
    "    end_vertex = edge[1]\n",
    "    start_vertex_index_line_graph_edge = edge_dict[start_vertex]\n",
    "    end_vertex_index_line_graph_edge = edge_dict[end_vertex]\n",
    "    line_graph_edge_weight = line_graph_edge_weight_dict[edge]\n",
    "    L_new.add_edge(start_vertex_index_line_graph_edge, end_vertex_index_line_graph_edge, weight=line_graph_edge_weight)\n",
    "# print L_new.edges(data=True)"
   ]
  },
  {
   "cell_type": "code",
   "execution_count": 10,
   "metadata": {
    "collapsed": true
   },
   "outputs": [],
   "source": [
    "# np.savetxt(line_graph_path, line_graph_edgelist_mat, fmt=\"%.4e\")\n",
    "nx.write_edgelist(L_new, line_graph_path, data=True)"
   ]
  },
  {
   "cell_type": "markdown",
   "metadata": {},
   "source": [
    "## Save the map to a pickle file"
   ]
  },
  {
   "cell_type": "code",
   "execution_count": 11,
   "metadata": {
    "collapsed": true
   },
   "outputs": [],
   "source": [
    "edge_to_node_id_dict_filename = os.path.join(graph_base_path, 'data', graph_name, 'edge_to_node_id_dict.pkl')\n",
    "with open(edge_to_node_id_dict_filename, 'wb') as edge_to_node_id_dict_file:\n",
    "    pickle.dump(edge_dict, edge_to_node_id_dict_file, pickle.HIGHEST_PROTOCOL)"
   ]
  },
  {
   "cell_type": "code",
   "execution_count": 12,
   "metadata": {
    "collapsed": true
   },
   "outputs": [],
   "source": [
    "with open(edge_to_node_id_dict_filename, 'rb') as edge_to_node_id_dict_file:\n",
    "    loaded_edge_dict = pickle.load(edge_to_node_id_dict_file)\n",
    "# print loaded_edge_dict"
   ]
  },
  {
   "cell_type": "markdown",
   "metadata": {},
   "source": [
    "## Store the line graph into adjacency matrix format"
   ]
  },
  {
   "cell_type": "code",
   "execution_count": 13,
   "metadata": {},
   "outputs": [],
   "source": [
    "G_from_adjacency_mat = nx.adjacency_matrix(L_new)\n",
    "# print(G_from_adjacency_mat.todense())"
   ]
  },
  {
   "cell_type": "code",
   "execution_count": 14,
   "metadata": {
    "collapsed": true
   },
   "outputs": [],
   "source": [
    "mat_file_name = os.path.join(graph_base_path, 'data' , graph_name, 'line_graph_undirected.mat')\n",
    "sio.savemat(mat_file_name, {'graph_sparse' : sparse.csr_matrix(G_from_adjacency_mat)})"
   ]
  },
  {
   "cell_type": "markdown",
   "metadata": {},
   "source": [
    "## Test the line graph from edgelist and adjacency matrix"
   ]
  },
  {
   "cell_type": "code",
   "execution_count": null,
   "metadata": {},
   "outputs": [],
   "source": [
    "L_test = nx.read_edgelist(line_graph_path)\n",
    "print(L_test.edges(data=True))"
   ]
  },
  {
   "cell_type": "code",
   "execution_count": null,
   "metadata": {},
   "outputs": [],
   "source": [
    "line_graph_scipy_adj_mat = sio.loadmat(mat_file_name)['graph_sparse']\n",
    "L_test_adj_mat = nx.from_scipy_sparse_matrix(line_graph_scipy_adj_mat)\n",
    "print(L_test_adj_mat.edges(data=True))"
   ]
  },
  {
   "cell_type": "code",
   "execution_count": 105,
   "metadata": {},
   "outputs": [
    {
     "name": "stdout",
     "output_type": "stream",
     "text": [
      "Iter 10\n"
     ]
    }
   ],
   "source": [
    "i = 10\n",
    "print('Iter %s'%(i))"
   ]
  }
 ],
 "metadata": {
  "kernelspec": {
   "display_name": "Python 3",
   "language": "python",
   "name": "python3"
  },
  "language_info": {
   "codemirror_mode": {
    "name": "ipython",
    "version": 3
   },
   "file_extension": ".py",
   "mimetype": "text/x-python",
   "name": "python",
   "nbconvert_exporter": "python",
   "pygments_lexer": "ipython3",
   "version": "3.6.5"
  }
 },
 "nbformat": 4,
 "nbformat_minor": 2
}
