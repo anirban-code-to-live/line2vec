{
 "cells": [
  {
   "cell_type": "code",
   "execution_count": 158,
   "metadata": {},
   "outputs": [],
   "source": [
    "import networkx as nx\n",
    "import numpy as np\n",
    "import os\n",
    "import pickle\n",
    "import scipy.io as sio\n",
    "from scipy import sparse\n",
    "# print(nx.__version__)\n",
    "# print(np.__version__)"
   ]
  },
  {
   "cell_type": "markdown",
   "metadata": {},
   "source": [
    "## Construct graph paths for different datasets"
   ]
  },
  {
   "cell_type": "code",
   "execution_count": 159,
   "metadata": {},
   "outputs": [
    {
     "name": "stdout",
     "output_type": "stream",
     "text": [
      "Graph path ::  /Users/anirban/Documents/IISC-Study/Project/Repos/line2vec/data/synthetic/link_structure.edgelist\n"
     ]
    }
   ],
   "source": [
    "graph_base_path = os.path.dirname(os.path.dirname(os.path.dirname(os.path.realpath('__file__'))))\n",
    "# print(graph_path)\n",
    "graph_name = 'synthetic'\n",
    "graph_path = os.path.join(graph_base_path, 'data' , graph_name, 'link_structure.edgelist')\n",
    "print('Graph path :: ', graph_path)"
   ]
  },
  {
   "cell_type": "markdown",
   "metadata": {},
   "source": [
    "## Load graph from edgelist file and convert it to line graph"
   ]
  },
  {
   "cell_type": "code",
   "execution_count": 160,
   "metadata": {
    "scrolled": true
   },
   "outputs": [
    {
     "name": "stdout",
     "output_type": "stream",
     "text": [
      "30\n",
      "30\n"
     ]
    }
   ],
   "source": [
    "G = nx.read_edgelist(graph_path, create_using=nx.DiGraph(), nodetype=int)\n",
    "print(len(G.edges()))\n",
    "L = nx.line_graph(G)\n",
    "print(len(L.nodes()))\n",
    "# print(L.edges())"
   ]
  },
  {
   "cell_type": "markdown",
   "metadata": {},
   "source": [
    "## Build dictionary of modified edge weights for original graph\n",
    "\n",
    "For each directed edge in $e=(v_i, v_j) \\in E(G)$, evaluate the edge-weight $w_{ij}$ using the following equation : <br><br>&emsp;&emsp;&emsp;\n",
    "$w_{ij} = max(\\frac{D}{d_i*d_j} + \\epsilon, \\epsilon)$.\n",
    "<br> \n",
    "<br>$D$ = Total in-degree/out-degree of the graph, \n",
    "<br>$d_i$ = Out-degree of the vertex $v_i$, \n",
    "<br>$d_j$ = In-degree of the vertex $v_j$\n",
    "\n",
    "Here the assumption being the original graph $G=(V, E)$ is unweighted."
   ]
  },
  {
   "cell_type": "code",
   "execution_count": 161,
   "metadata": {},
   "outputs": [],
   "source": [
    "in_degree_dict = dict(G.in_degree())\n",
    "out_degree_dict = dict(G.out_degree())\n",
    "epsilon = 0.00001\n",
    "# assert np.sum(in_degree_dict.values()) == np.sum(out_degree_dict.values())\n",
    "assert np.sum(list(in_degree_dict.values())) == np.sum(list(out_degree_dict.values()))\n",
    "# total_degree = np.sum(in_degree_dict.values())\n",
    "total_degree = np.sum(list(in_degree_dict.values()))\n",
    "# print(total_degree)\n",
    "edge_weight_dict = {}\n",
    "for edge in G.edges():\n",
    "    start_vertex = edge[0]\n",
    "    end_vertex = edge[1]\n",
    "    start_vertex_degree = out_degree_dict[start_vertex]\n",
    "    end_vertex_degree = in_degree_dict[end_vertex]\n",
    "    edge_weight = max(np.log(float(total_degree) / (start_vertex_degree * end_vertex_degree)) + epsilon, epsilon)\n",
    "    edge_weight_dict[edge] = edge_weight\n",
    "# print(edge_weight_dict)"
   ]
  },
  {
   "cell_type": "markdown",
   "metadata": {},
   "source": [
    "## Build dictionary of weighted degree of nodes \n",
    "This is measured based on the weights of edges associated with a node of the original graph calculated previously. For any node $v_i \\in V(G)$, if the outgoing edges associated with it are denoted by $e_{ik}$ for those $k$ such that $e_{ik} \\in E(G)$, then the weighted degree is as follows: <br>\n",
    "\n",
    "&emsp;&emsp;&emsp;&emsp;&emsp;&emsp;&emsp;&emsp;&emsp;\n",
    "$d^{'}_{i} = \\sum_{k}{w_{ik}}$"
   ]
  },
  {
   "cell_type": "code",
   "execution_count": 162,
   "metadata": {},
   "outputs": [],
   "source": [
    "weighted_out_degree_dict = {}\n",
    "for node in G.nodes():\n",
    "    weight = 0\n",
    "    for neightbor in G.neighbors(node):\n",
    "#         if((node, neightbor) in edge_weight_dict):\n",
    "        weight += edge_weight_dict[(node, neightbor)]\n",
    "#         else:\n",
    "#             print('In reverse')\n",
    "#             weight += edge_weight_dict[(neighbor, node)]\n",
    "    weighted_out_degree_dict[node] = weight\n",
    "# print(weighted_out_degree_dict)"
   ]
  },
  {
   "cell_type": "markdown",
   "metadata": {},
   "source": [
    "## Build weighted line graph \n",
    "\n",
    "In the original graph, two directed edges $e_{ij}$ and $e_{jk}$ are adjacent if and only if $v_j$ is the destination vertex of $e_{ij}$ and source vertex of $e_{jk}$. We define the edge weight for $e^{L}_{ik}$ for the line graph $L(G)$ as follows: <br>\n",
    "\n",
    "&emsp;&emsp;&emsp;&emsp;&emsp;\n",
    "$ w^L_{ik} = \\frac{w_{jk}} {\\sum_{l=1}^{|V|}{w_{jl}}} = \\frac{w_{jk}}{d^{'}_{j}} $"
   ]
  },
  {
   "cell_type": "code",
   "execution_count": 163,
   "metadata": {},
   "outputs": [],
   "source": [
    "line_graph_edge_weight_dict = {}\n",
    "for line_graph_edge in L.edges():\n",
    "    original_graph_edge_src = line_graph_edge[0]\n",
    "    original_graph_edge_dest = line_graph_edge[1]\n",
    "#     print original_graph_edge_src, original_graph_edge_dest\n",
    "    common_vertex = set(original_graph_edge_src).intersection(set(original_graph_edge_dest))\n",
    "    start_vertex = set(original_graph_edge_src).difference(common_vertex)\n",
    "    end_vertex = set(original_graph_edge_dest).difference(common_vertex)\n",
    "    if(len(common_vertex) == 1 and len(start_vertex) != 0 and len(end_vertex) != 0):\n",
    "        common_vertex = list(common_vertex)[0]\n",
    "        start_vertex = list(start_vertex)[0]\n",
    "        end_vertex = list(end_vertex)[0]\n",
    "    else:\n",
    "        # Handle the odd case of self-loops or parallel-edges\n",
    "        common_vertex = original_graph_edge_src[1]\n",
    "        start_vertex = original_graph_edge_src[0]\n",
    "        end_vertex = original_graph_edge_dest[1]\n",
    "        #assert original_graph_edge_src[1] == original_graph_edge_dest[0]\n",
    "        #assert original_graph_edge_src[0] == original_graph_edge_dest[1]\n",
    "#     degree_start_vertex_src_edge = degree_dict[start_vertex]\n",
    "#     degree_end_vertex_src_edge = degree_dict[common_vertex]\n",
    "#     if (degree_start_vertex_src_edge == 1):\n",
    "#         weight_contri_src_edge = 1\n",
    "#     else:\n",
    "#         weight_contri_src_edge = float(degree_start_vertex_src_edge)/ (degree_start_vertex_src_edge + degree_end_vertex_src_edge)\n",
    "    weight_dest_edge = edge_weight_dict[original_graph_edge_dest]\n",
    "#     weight_src_edge = edge_weight_dict[original_graph_edge_src]\n",
    "    weighted_degree_common_vertex = weighted_out_degree_dict[common_vertex]\n",
    "    weight_contri_dest_edge = float(weight_dest_edge)/(weighted_degree_common_vertex)\n",
    "#     line_graph_edge_weight = weight_contri_src_edge * weight_contri_dest_edge\n",
    "    line_graph_edge_weight_dict[line_graph_edge] = weight_contri_dest_edge\n",
    "# print(line_graph_edge_weight_dict)"
   ]
  },
  {
   "cell_type": "markdown",
   "metadata": {},
   "source": [
    "## Define path for the line graph"
   ]
  },
  {
   "cell_type": "code",
   "execution_count": 7,
   "metadata": {},
   "outputs": [
    {
     "name": "stdout",
     "output_type": "stream",
     "text": [
      "Line graph path ::  /storage/home1/e0202-6/edge-to-vec/data/cora/dual_link_structure.edgelist\n"
     ]
    }
   ],
   "source": [
    "line_graph_path = os.path.join(graph_base_path, 'data', graph_name, 'dual_link_structure.edgelist')\n",
    "print 'Line graph path :: ', line_graph_path\n",
    "# nx.write_edgelist(L, line_graph_path)"
   ]
  },
  {
   "cell_type": "markdown",
   "metadata": {},
   "source": [
    "## Map graph edges to unique integer index - useful for line graph"
   ]
  },
  {
   "cell_type": "code",
   "execution_count": 8,
   "metadata": {},
   "outputs": [
    {
     "name": "stdout",
     "output_type": "stream",
     "text": [
      "5429\n",
      "5429\n"
     ]
    }
   ],
   "source": [
    "edge_dict = {}\n",
    "index = 0\n",
    "print(len(G.edges()))\n",
    "for edge in G.edges():\n",
    "    edge_dict[tuple(edge)] = index\n",
    "    index += 1\n",
    "\n",
    "print len(edge_dict)"
   ]
  },
  {
   "cell_type": "markdown",
   "metadata": {},
   "source": [
    "## Store line graph edges based on the previously constructed map"
   ]
  },
  {
   "cell_type": "code",
   "execution_count": 9,
   "metadata": {},
   "outputs": [
    {
     "name": "stdout",
     "output_type": "stream",
     "text": [
      "5429\n"
     ]
    }
   ],
   "source": [
    "# print L.edges()\n",
    "edge_count = len(L.edges())\n",
    "line_graph_edges = list(L.edges())\n",
    "L_new = nx.DiGraph()\n",
    "L_new.add_nodes_from(edge_dict.values())\n",
    "# print sorted_edges\n",
    "for i in range(edge_count):\n",
    "    edge = line_graph_edges[i]\n",
    "    start_vertex = edge[0]\n",
    "    end_vertex = edge[1]\n",
    "    start_vertex_index_line_graph_edge = edge_dict[start_vertex]\n",
    "    end_vertex_index_line_graph_edge = edge_dict[end_vertex]\n",
    "    line_graph_edge_weight = line_graph_edge_weight_dict[edge]\n",
    "    L_new.add_edge(start_vertex_index_line_graph_edge, end_vertex_index_line_graph_edge, weight=line_graph_edge_weight)\n",
    "print len(L_new.nodes())"
   ]
  },
  {
   "cell_type": "code",
   "execution_count": 10,
   "metadata": {
    "collapsed": true
   },
   "outputs": [],
   "source": [
    "# np.savetxt(line_graph_path, line_graph_edgelist_mat, fmt=\"%i\")\n",
    "nx.write_edgelist(L_new, line_graph_path, data=True)"
   ]
  },
  {
   "cell_type": "markdown",
   "metadata": {},
   "source": [
    "## Save the map to a pickle file"
   ]
  },
  {
   "cell_type": "code",
   "execution_count": 11,
   "metadata": {
    "collapsed": true
   },
   "outputs": [],
   "source": [
    "edge_to_node_id_dict_filename = os.path.join(graph_base_path, 'data', graph_name, 'edge_to_node_id_dict.pkl')\n",
    "with open(edge_to_node_id_dict_filename, 'wb') as edge_to_node_id_dict_file:\n",
    "    pickle.dump(edge_dict, edge_to_node_id_dict_file, pickle.HIGHEST_PROTOCOL)"
   ]
  },
  {
   "cell_type": "code",
   "execution_count": 12,
   "metadata": {
    "collapsed": true
   },
   "outputs": [],
   "source": [
    "with open(edge_to_node_id_dict_filename, 'rb') as edge_to_node_id_dict_file:\n",
    "    loaded_edge_dict = pickle.load(edge_to_node_id_dict_file)\n",
    "# print loaded_edge_dict"
   ]
  },
  {
   "cell_type": "markdown",
   "metadata": {
    "collapsed": true
   },
   "source": [
    "## Store the line graph into adjacency matrix format"
   ]
  },
  {
   "cell_type": "code",
   "execution_count": 13,
   "metadata": {
    "collapsed": true
   },
   "outputs": [],
   "source": [
    "G_from_adjacency_mat = nx.adjacency_matrix(L_new)\n",
    "# print(G_from_adjacency_mat.todense())"
   ]
  },
  {
   "cell_type": "code",
   "execution_count": 14,
   "metadata": {
    "collapsed": true
   },
   "outputs": [],
   "source": [
    "mat_file_name = os.path.join(graph_base_path, 'data' , graph_name, 'line_graph_directed.mat')\n",
    "sio.savemat(mat_file_name, {'graph_sparse' : sparse.csr_matrix(G_from_adjacency_mat)})"
   ]
  },
  {
   "cell_type": "markdown",
   "metadata": {},
   "source": [
    "## Test the line graph from edgelist and adjacency matrix"
   ]
  },
  {
   "cell_type": "code",
   "execution_count": null,
   "metadata": {
    "collapsed": true
   },
   "outputs": [],
   "source": [
    "L_test = nx.read_edgelist(line_graph_path, data=True)\n",
    "# print(L_test.edges(data=True))\n",
    "# print(L.nodes())"
   ]
  },
  {
   "cell_type": "code",
   "execution_count": null,
   "metadata": {
    "collapsed": true
   },
   "outputs": [],
   "source": [
    "line_graph_scipy_adj_mat = sio.loadmat(mat_file_name)['graph_sparse']\n",
    "L_test_adj_mat = nx.from_scipy_sparse_matrix(line_graph_scipy_adj_mat)\n",
    "# print(L_test_adj_mat.edges(data=True))"
   ]
  },
  {
   "cell_type": "markdown",
   "metadata": {},
   "source": [
    "## Convert the dual graph edgelist into edgelist format suitable for node2vec"
   ]
  },
  {
   "cell_type": "code",
   "execution_count": null,
   "metadata": {
    "collapsed": true
   },
   "outputs": [],
   "source": [
    "line_graph_path_for_node2vec = os.path.join(graph_base_path, 'data', graph_name, 'dual_link_structure_node2vec.edgelist')\n",
    "print 'Line graph path :: ', line_graph_path"
   ]
  },
  {
   "cell_type": "code",
   "execution_count": null,
   "metadata": {
    "collapsed": true
   },
   "outputs": [],
   "source": [
    "nx.write_edgelist(L_test, line_graph_path_for_node2vec)"
   ]
  }
 ],
 "metadata": {
  "kernelspec": {
   "display_name": "Python 3",
   "language": "python",
   "name": "python3"
  },
  "language_info": {
   "codemirror_mode": {
    "name": "ipython",
    "version": 3
   },
   "file_extension": ".py",
   "mimetype": "text/x-python",
   "name": "python",
   "nbconvert_exporter": "python",
   "pygments_lexer": "ipython3",
   "version": "3.6.5"
  }
 },
 "nbformat": 4,
 "nbformat_minor": 2
}
