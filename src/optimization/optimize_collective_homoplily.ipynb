{
 "cells": [
  {
   "cell_type": "code",
   "execution_count": 92,
   "metadata": {},
   "outputs": [],
   "source": [
    "from scipy.optimize import minimize\n",
    "import numpy as np"
   ]
  },
  {
   "cell_type": "markdown",
   "metadata": {},
   "source": [
    "## Optimize the radius and centers of the hyper-spheres\n",
    "\n",
    "Let the given graph(network) is represented by $G=(V,E)$. For each vertex $u \\in V(G)$, we associate a hyper-sphere of radius $R_u$ and center at $C_u$. Let us denote the set of radius as $R=\\{R_u: u \\in V(G)\\}$ and $C = \\{C_u: u \\in V(G)\\}$. If the hyper-sphere is $K$-dimensional, then $R \\in {\\rm I\\!R}^{|V|}$ and $C \\in {\\rm I\\!R}^{|V| \\times K}$.\n",
    "\n",
    "Let $C_u$ and $R_u$ and $C_v$ and $R_v$ be the center and radius of two $K$-dimensional hyper-spheres corresponding to vertices $u, v$ respectively. $C_u, C_v \\in {\\rm I\\!R}^K$ and $R_u, R_v \\in {\\rm I\\!R}$. Let $X_{uv}$ be the embedding of the edge $e=(u,v) \\in E(G)$. Let us denote the embedding set as $X=\\{X_{uv}: (u,v) \\in E\\}$.\n",
    "\n",
    "The optimization problem we are trying to solve here is as follows:\n",
    "<br>\n",
    "\n",
    "Minimize &nbsp; $\\alpha \\sum_{u \\in V}{R_u^2}$ <br>\n",
    "subject to $\\left\\Vert X_{uv} - C_{u} \\right\\Vert^2 \\leq R_u^2$  and  $\\left\\Vert X_{uv} - C_{v} \\right\\Vert^2 \\leq R_v^2 \\quad \\forall (u,v) \\in E$\n",
    "            \n",
    "The optimization variables in this problem are $R, C$.\n",
    "\n"
   ]
  },
  {
   "cell_type": "code",
   "execution_count": 261,
   "metadata": {},
   "outputs": [],
   "source": [
    "def _constraint(params, args):\n",
    "    X_uv = args[0]\n",
    "    embed_dim = len(X_uv)\n",
    "    param_index = args[1]\n",
    "    r = params[param_index*(embed_dim+1)]\n",
    "    c = params[param_index*(embed_dim+1)+1:(param_index+1)*(embed_dim+1)]\n",
    "    val = r**2 - np.linalg.norm(np.array(X_uv) - np.array(c))**2\n",
    "    return val\n",
    "\n",
    "def _func_objective(params, args):\n",
    "    embed_dim = len(list(args[0].values())[0])\n",
    "    rad_param_count = int(len(params)/(embed_dim+1))\n",
    "    total_rad_sqr = 0\n",
    "    for index in range(rad_param_count):\n",
    "        r = params[index*(embed_dim+1)]\n",
    "        total_rad_sqr += r**2\n",
    "    return total_rad_sqr\n",
    "\n",
    "def _minimize_projection_loss(init_params, args):\n",
    "    constraints = []\n",
    "    for key in args[0].keys():\n",
    "        u = key[0]\n",
    "        v = key[1]\n",
    "        X_uv = args[0][key]\n",
    "        args_1 = [X_uv, u]\n",
    "        args_2 = [X_uv, v]\n",
    "        constraint_1 = {'type':'ineq', 'fun': _constraint, 'args':[args_1]}\n",
    "        constraint_2 = {'type':'ineq', 'fun': _constraint, 'args':[args_2]}\n",
    "        constraints.append(constraint_1)\n",
    "        constraints.append(constraint_2)\n",
    "    \n",
    "    params = minimize(_func_objective, [init_params],\n",
    "                      args=args,\n",
    "                      constraints=constraints)\n",
    "    return params['x']\n",
    "\n",
    "def optimize_collective_homophily(embeddings, centers, radii, edge_map, nodes):\n",
    "    args = {}\n",
    "    for edge_index, edge in edge_map.items():\n",
    "        node_u = edge[0]\n",
    "        node_v = edge[1]\n",
    "        node_u_ind = np.where(nodes == node_u)[0][0]\n",
    "        node_v_ind = np.where(nodes == node_v)[0][0]\n",
    "        args[(node_u_ind, node_v_ind)] = embeddings[edge_index]\n",
    "    \n",
    "    embed_dim = centers.shape[1]\n",
    "    node_count = len(nodes)\n",
    "    assert node_count == centers.shape[0]\n",
    "    init_params = np.empty((node_count, embed_dim + 1))\n",
    "    for i in range(node_count):\n",
    "        c_i = list(centers[i])\n",
    "        r_i = list(radii[i])\n",
    "        init_params[i] = r_i + c_i\n",
    "    opt_params = _minimize_projection_loss(init_params, [args])\n",
    "    print(opt_params.shape)\n",
    "    \n",
    "    opt_centers = np.empty((node_count, embed_dim))\n",
    "    opt_radii = np.empty((node_count, 1))\n",
    "    for i in range(node_count):\n",
    "        opt_radii[i] = opt_params[i*(embed_dim+1)]\n",
    "        opt_centers[i] = opt_params[i*(embed_dim+1)+1:(i+1)*(embed_dim+1)]\n",
    "    return opt_centers, opt_radii"
   ]
  },
  {
   "cell_type": "markdown",
   "metadata": {},
   "source": [
    "### Test data for the above optimization problem"
   ]
  },
  {
   "cell_type": "code",
   "execution_count": 262,
   "metadata": {},
   "outputs": [
    {
     "name": "stdout",
     "output_type": "stream",
     "text": [
      "(12,)\n",
      "[[ 1.99999982e+00 -3.06836096e-08]\n",
      " [ 4.00000000e+00  0.00000000e+00]\n",
      " [ 8.00000000e+00  0.00000000e+00]\n",
      " [ 9.99999976e+00 -4.07633895e-08]]\n",
      "[[4.79916380e-04]\n",
      " [2.00000000e+00]\n",
      " [2.00000000e+00]\n",
      " [4.79915819e-04]]\n"
     ]
    },
    {
     "data": {
      "text/plain": [
       "(array([[ 1.99999982e+00, -3.06836096e-08],\n",
       "        [ 4.00000000e+00,  0.00000000e+00],\n",
       "        [ 8.00000000e+00,  0.00000000e+00],\n",
       "        [ 9.99999976e+00, -4.07633895e-08]]), array([[4.79916380e-04],\n",
       "        [2.00000000e+00],\n",
       "        [2.00000000e+00],\n",
       "        [4.79915819e-04]]))"
      ]
     },
     "execution_count": 262,
     "metadata": {},
     "output_type": "execute_result"
    }
   ],
   "source": [
    "# Test network - I\n",
    "embeddings = np.array([[2, 0], [6, 0], [10, 0]])\n",
    "centers = np.array([[0, 0], [4, 0], [8, 0], [12, 0]])\n",
    "radii = np.array([[3], [3], [3], [3]])\n",
    "edge_map = {0:(1, 2), 1:(2, 3), 2:(3, 4)}\n",
    "nodes = np.array([1, 2, 3, 4])\n",
    "\n",
    "# Test network - II\n",
    "# embeddings = np.array([[2, 0]])\n",
    "# centers = np.array([[0, 0], [4, 0]])\n",
    "# radii = np.array([[3], [3]])\n",
    "# edge_map = {0:(1, 2)}\n",
    "# nodes = np.array([1, 2])\n",
    "\n",
    "optimize_collective_homophily(embeddings, centers, radii, edge_map, nodes)"
   ]
  },
  {
   "cell_type": "code",
   "execution_count": 168,
   "metadata": {},
   "outputs": [
    {
     "name": "stdout",
     "output_type": "stream",
     "text": [
      "(4, 3)\n",
      "     fun: 4.000001035516371\n",
      "     jac: array([-2.19857693e-03,  0.00000000e+00,  0.00000000e+00,  0.00000000e+00,\n",
      "       -1.68800354e-04,  0.00000000e+00,  4.00000000e+00,  0.00000000e+00,\n",
      "        0.00000000e+00,  0.00000000e+00,  0.00000000e+00,  0.00000000e+00])\n",
      " message: 'Optimization terminated successfully.'\n",
      "    nfev: 99\n",
      "     nit: 7\n",
      "    njev: 7\n",
      "  status: 0\n",
      " success: True\n",
      "       x: array([ 7.54970098e-04,  2.00084715e+00, -7.49712193e-09,  6.06219636e+00,\n",
      "       -6.82302364e-04,  0.00000000e+00,  2.00000000e+00,  8.00000000e+00,\n",
      "        0.00000000e+00,  4.00000000e+00,  1.20000000e+01,  0.00000000e+00])\n",
      "0.0007549700979841115\n"
     ]
    }
   ],
   "source": [
    "X_12 = [2, 0]\n",
    "c_1 = [0, 0]\n",
    "c_2 = [4, 0]\n",
    "r_1 = 3\n",
    "r_2 = 3\n",
    "\n",
    "X_23 = [6, 0]\n",
    "c_3 = [8, 0]\n",
    "r_3 = 3\n",
    "\n",
    "X_34 = [10, 0]\n",
    "c_4 = [12, 0]\n",
    "r_4 = 3\n",
    "\n",
    "args = [{(1,2):X_12, (2,3):X_23, (3,4):X_34}]\n",
    "init_params = np.array([[3,0,0], [3,4,0], [3,8,0], [4,12,0]])\n",
    "print(init_params.shape)\n",
    "x_proj = minimize_projection_loss(init_params, args)\n",
    "print(x_proj)"
   ]
  }
 ],
 "metadata": {
  "kernelspec": {
   "display_name": "Python 3",
   "language": "python",
   "name": "python3"
  },
  "language_info": {
   "codemirror_mode": {
    "name": "ipython",
    "version": 2
   },
   "file_extension": ".py",
   "mimetype": "text/x-python",
   "name": "python",
   "nbconvert_exporter": "python",
   "pygments_lexer": "ipython2",
   "version": "2.7.15"
  }
 },
 "nbformat": 4,
 "nbformat_minor": 2
}
