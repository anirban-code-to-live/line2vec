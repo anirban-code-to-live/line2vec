{
 "cells": [
  {
   "cell_type": "code",
   "execution_count": 1,
   "metadata": {},
   "outputs": [],
   "source": [
    "from scipy.optimize import minimize\n",
    "import numpy as np"
   ]
  },
  {
   "cell_type": "markdown",
   "metadata": {},
   "source": [
    "## Projection of embedding into intersection of two hyper-spheres\n",
    "\n",
    "Let $C_u$ and $R_u$ and $C_v$ and $R_v$ be the center and radius of two $K$-dimensional hyper-spheres. $C_u, C_v \\in {\\rm I\\!R}^K$ and $R_u, R_k \\in {\\rm I\\!R}$. Let $X_{uv}$ be the embedding of the edge $e=(u,v) \\in E(G)$ and $\\bar{X}_{uv}$ denote the projection of $X_{uv}$ in the overlapping region of the two hyper-spheres mentioned earlier. The optimization problem we are trying to solve here is as follows:\n",
    "<br>\n",
    "\n",
    "Minimize $ \\left\\Vert \\bar{X}_{uv} - X_{uv} \\right\\Vert^2$ <br>\n",
    "subject to $\\left\\Vert \\bar{X}_{uv} - C_{u} \\right\\Vert^2 \\leq R_u^2$  and  $\\left\\Vert \\bar{X}_{uv} - C_{v} \\right\\Vert^2 \\leq R_v^2$\n",
    "\n",
    "In this problem, the optimization variable is $\\bar{X}_{uv}$.\n",
    "            \n",
    "\n"
   ]
  },
  {
   "cell_type": "code",
   "execution_count": 6,
   "metadata": {},
   "outputs": [],
   "source": [
    "def _constraint(params, args):\n",
    "    x = params\n",
    "    c = args[1]\n",
    "    r = args[2]\n",
    "    val = r**2 - np.linalg.norm(np.array(x) - np.array(c))**2\n",
    "    return val\n",
    "\n",
    "def _func_objective(params, args):\n",
    "    x = args[0]\n",
    "    c_u = args[1]\n",
    "    c_v = args[2]\n",
    "    r_u = args[3]\n",
    "    r_v = args[4]\n",
    "    proj_distance = np.linalg.norm(params - x)\n",
    "    return proj_distance**2\n",
    "\n",
    "def _minimize_projection_loss(init_params, args, args_1, args_2):\n",
    "    constraints = [{'type':'ineq', 'fun': _constraint, 'args':[args_1]},\n",
    "                  {'type':'ineq', 'fun': _constraint, 'args':[args_2]}]\n",
    "    params = minimize(_func_objective, [init_params],\n",
    "                      args=args,\n",
    "                      constraints=constraints)\n",
    "    print(params)\n",
    "    return params['x']\n",
    "\n",
    "def project(embeddings, centers, radii, edge_map, nodes):\n",
    "    edge_count = embeddings.shape[0]\n",
    "    embed_dim = embeddings.shape[1]\n",
    "    node_count = centers.shape[0]\n",
    "    assert centers.shape[1] == embed_dim\n",
    "    assert node_count == radii.shape[0]\n",
    "    projected_embeddings = np.empty((edge_count, embed_dim))\n",
    "    for i in range(edge_count):\n",
    "        embed = embeddings[i]\n",
    "        edge = edge_map[i]\n",
    "        node_u = edge[0]\n",
    "        node_v = edge[1]\n",
    "        node_u_ind = np.where(nodes == node_u)[0][0]\n",
    "        node_v_ind = np.where(nodes == node_v)[0][0]\n",
    "        c_u = centers[node_u_ind]\n",
    "        r_u = radii[node_u_ind]\n",
    "        c_v = centers[node_v_ind]\n",
    "        r_v = radii[node_v_ind]\n",
    "        init_embed = np.random.rand(embed_dim)\n",
    "        \n",
    "        args = [embed, c_u, c_v, r_u, r_v]\n",
    "        args_1 = [embed, c_u, r_u]\n",
    "        args_2 = [embed, c_v, r_v]\n",
    "        proj_embed = _minimize_projection_loss(init_embed, args, args_1, args_2)\n",
    "        projected_embeddings[i] = proj_embed\n",
    "    \n",
    "    print(projected_embeddings.shape)\n",
    "    return projected_embeddings"
   ]
  },
  {
   "cell_type": "markdown",
   "metadata": {},
   "source": [
    "### Test for the above optimization problem"
   ]
  },
  {
   "cell_type": "code",
   "execution_count": 7,
   "metadata": {},
   "outputs": [
    {
     "name": "stdout",
     "output_type": "stream",
     "text": [
      "(1, 2)\n",
      "(2, 2)\n",
      "(2, 1)\n",
      "     fun: 0.24999991277866324\n",
      "     jac: array([  9.99999825e-01,  -1.79734081e-04])\n",
      " message: 'Optimization terminated successfully.'\n",
      "    nfev: 26\n",
      "     nit: 6\n",
      "    njev: 6\n",
      "  status: 0\n",
      " success: True\n",
      "       x: array([  9.99999905e-01,  -8.98746864e-05])\n",
      "(1, 2)\n"
     ]
    },
    {
     "data": {
      "text/plain": [
       "array([[  9.99999905e-01,  -8.98746864e-05]])"
      ]
     },
     "execution_count": 7,
     "metadata": {},
     "output_type": "execute_result"
    }
   ],
   "source": [
    "embeddings = np.array([[0.5, 0]])\n",
    "print(embeddings.shape)\n",
    "centers = np.array([[0, 0], [4, 0]])\n",
    "print(centers.shape)\n",
    "radii = np.array([[3], [3]])\n",
    "print(radii.shape)\n",
    "edge_map = {0:(0, 1)}\n",
    "nodes = np.array([0, 1])\n",
    "project(embeddings, centers, radii, edge_map, nodes)"
   ]
  },
  {
   "cell_type": "code",
   "execution_count": 24,
   "metadata": {},
   "outputs": [
    {
     "name": "stdout",
     "output_type": "stream",
     "text": [
      "[{'type': 'ineq', 'fun': <function _constraint at 0x10648ed08>, 'args': [[[3, 0], [0, 0], 3]]}, {'type': 'ineq', 'fun': <function _constraint at 0x10648ed08>, 'args': [[[3, 0], [4, 0], 3]]}]\n",
      "[[3, 0], [0, 0], [4, 0], 3, 3]\n",
      "[3, 0]\n",
      "[2. 0.]\n",
      "[3, 0]\n",
      "[2. 0.]\n",
      "[3, 0]\n",
      "[2.00000001 0.        ]\n",
      "[3, 0]\n",
      "[2.00000000e+00 1.49011612e-08]\n",
      "[3, 0]\n",
      "[3.25 0.  ]\n",
      "[3, 0]\n",
      "[3.25 0.  ]\n",
      "[3, 0]\n",
      "[3.25000001 0.        ]\n",
      "[3, 0]\n",
      "[3.25000000e+00 1.49011612e-08]\n",
      "[3, 0]\n",
      "[ 3.00961538e+00 -1.20355533e-08]\n",
      "[3, 0]\n",
      "[ 3.00961538e+00 -1.20355533e-08]\n",
      "[3, 0]\n",
      "[ 3.00961540e+00 -1.20355533e-08]\n",
      "[3, 0]\n",
      "[3.00961538e+00 2.86560792e-09]\n",
      "[3, 0]\n",
      "[ 3.00001536e+00 -2.38444555e-09]\n",
      "[3, 0]\n",
      "[ 3.00001536e+00 -2.38444555e-09]\n",
      "[3, 0]\n",
      "[ 3.00001537e+00 -2.38444555e-09]\n",
      "[3, 0]\n",
      "[3.00001536e+00 1.25167156e-08]\n",
      "[3, 0]\n",
      "[ 2.99999999e+00 -1.25321652e-08]\n",
      "     fun: 2.0597520097055894e-16\n",
      "     jac: array([3.07348336e-05, 1.01322701e-08])\n",
      " message: 'Optimization terminated successfully.'\n",
      "    nfev: 17\n",
      "     nit: 4\n",
      "    njev: 4\n",
      "  status: 0\n",
      " success: True\n",
      "       x: array([ 2.99999999e+00, -1.25321652e-08])\n",
      "2.999999993005714\n"
     ]
    }
   ],
   "source": [
    "x = [3, 0]\n",
    "c_u = [0, 0]\n",
    "c_v = [4, 0]\n",
    "r_u = 3\n",
    "r_v = 3\n",
    "args = [x, c_u, c_v, r_u, r_v]\n",
    "args_1 = [x, c_u, r_u]\n",
    "args_2 = [x, c_v, r_v]\n",
    "init_params = [2, 0]\n",
    "x_proj = _minimize_projection_loss(init_params, args, args_1, args_2)\n",
    "print(x_proj)"
   ]
  }
 ],
 "metadata": {
  "kernelspec": {
   "display_name": "Python 3",
   "language": "python",
   "name": "python3"
  },
  "language_info": {
   "codemirror_mode": {
    "name": "ipython",
    "version": 2
   },
   "file_extension": ".py",
   "mimetype": "text/x-python",
   "name": "python",
   "nbconvert_exporter": "python",
   "pygments_lexer": "ipython2",
   "version": "2.7.15"
  }
 },
 "nbformat": 4,
 "nbformat_minor": 2
}
