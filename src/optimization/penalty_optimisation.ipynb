{
 "cells": [
  {
   "cell_type": "markdown",
   "metadata": {},
   "source": [
    "## Optimization Problem\n",
    "\n",
    "Let the given graph(network) is represented by $G=(V,E)$. For each vertex $u \\in V(G)$, we associate a hyper-sphere of radius $R_u$ and center at $C_u$. Let us denote the set of radius as $R=\\{R_u: u \\in V(G)\\}$ and $C = \\{C_u: u \\in V(G)\\}$. If the hyper-sphere is $K$-dimensional, then $R \\in {\\rm I\\!R}^{|V|}$ and $C \\in {\\rm I\\!R}^{|V| \\times K}$.\n",
    "\n",
    "Let $C_u$ and $R_u$ and $C_v$ and $R_v$ be the center and radius of two $K$-dimensional hyper-spheres corresponding to vertices $u, v$ respectively. $C_u, C_v \\in {\\rm I\\!R}^K$ and $R_u, R_v \\in {\\rm I\\!R}$. Let $X_{uv}$ be the embedding of the edge $e=(u,v) \\in E(G)$. Let us denote the embedding set as $X=\\{X_{uv}: (u,v) \\in E\\}$.\n",
    "\n",
    "The optimization problem we are trying to solve here is as follows:\n",
    "<br>\n",
    "\n",
    "Minimize &nbsp; $\\alpha \\sum_{u \\in V}{R_u^2} + \\sum_{v \\in V_L}\\big[|N_s(v)|\\log \\sum_{\\bar{v}\\in N_s(v)}\\exp(X_{\\bar{v}}.X_v) - \\sum_{v' \\in N_s(v)}{X_{v'}.X_v}\\big]$ <br>\n",
    "subject to $\\left\\Vert X_{uv} - C_{u} \\right\\Vert^2 \\leq R_u^2$  and  $\\left\\Vert X_{uv} - C_{v} \\right\\Vert^2 \\leq R_v^2 \\quad \\forall (u,v) \\in E$\n",
    "            \n",
    "The optimization variables in this problem are $X, R, C$.\n",
    "\n",
    "### Solve the optimization using Penalty Method\n",
    "\n",
    "The above optimization problem can be reformulated, using the method of adding a penalty term, as follows:\n",
    "\n",
    "Minimize &nbsp; $\\sum_{v \\in V_L}\\big[|N_s(v)|\\log \\sum_{\\bar{v}\\in N_s(v)}\\exp(X_{\\bar{v}}.X_v) - \\sum_{v' \\in N_s(v)}{X_{v'}.X_v}\\big] + \\alpha \\sum_{u \\in V}{R_u^2} + \\beta \\sum_{u \\in V} \\sum_{v \\in N(u)} g\\big( \\left\\Vert X_{uv} - C_{u} \\right\\Vert^2 - R_u^2 \\big)$ <br>\n",
    "\n",
    "Here, we have used RELU function for $g$, defined as:\n",
    "\n",
    "$g(t) = t * \\mathbb{1}(t>0)$, where $\\mathbb{1}$ is the standard indicator function.\n",
    "\n",
    "We try to solve the previous optimization problem using $\\textbf{Alternating Gradient Update}$ method. The first step is to solve the third summation term in the above objective function using node2vec method. Then we update $X_{uv}$ by subtracting the gradient of the second term. This we do keeping $R$ and $C$ fixed. Next step is to update $R$ and $C$, by subtracting the gradient of the first and third term w.r.t. $R$,$C$ and keeping $X_{uv}$ constant. The gradient calculation is mentioned below. "
   ]
  },
  {
   "cell_type": "code",
   "execution_count": 1,
   "metadata": {},
   "outputs": [],
   "source": [
    "from scipy.optimize import minimize\n",
    "import numpy as np"
   ]
  },
  {
   "cell_type": "markdown",
   "metadata": {},
   "source": [
    "## Updation of embedding on using penalty method\n",
    "\n",
    "Once we have the embeddings $X_{uv}, \\forall (u,v) \\in E(G)$ obtained from node2vec method, we update the embeddings by calculating the gradient of the third term in the optimization objective function. The entire update process is as follows:\n",
    "\n",
    "$\\nabla_{X_{uv}} F_3 = 2 \\beta (X_{uv} - C_u) * \\mathbb{1}\\big( \\left\\Vert X_{uv} - C_{u} \\right\\Vert^2 - R_u^2 \\big) + 2 \\beta (X_{uv} - C_v) * \\mathbb{1}\\big( \\left\\Vert X_{uv} - C_{v} \\right\\Vert^2 - R_v^2 \\big)$\n",
    "\n",
    "$X_{uv} = X_{uv} - \\eta * \\nabla_{X_{uv}} F_3$\n",
    "\n",
    "Here, $F_3$ is the third term in the optimization problem.\n",
    "\n"
   ]
  },
  {
   "cell_type": "code",
   "execution_count": 50,
   "metadata": {},
   "outputs": [],
   "source": [
    "def update_embeddings(embeddings, centers, radii, edge_map, nodes, beta=0.001, eta=0.1):\n",
    "    edge_count = embeddings.shape[0]\n",
    "    embed_dim = embeddings.shape[1]\n",
    "    assert edge_count == len(edge_map.keys())\n",
    "    for i in range(edge_count):\n",
    "        edge = edge_map[i]\n",
    "        n_u = edge[0]\n",
    "        n_v = edge[1]\n",
    "        X_uv = embeddings[i]\n",
    "        n_u_ind = np.where(nodes == n_u)\n",
    "        n_v_ind = np.where(nodes == n_v)\n",
    "        c_u = centers[n_u_ind]\n",
    "        c_v = centers[n_v_ind]\n",
    "        r_u = radii[n_u_ind]\n",
    "        r_v = radii[n_v_ind]\n",
    "        dX_uv = np.zeros((1, embed_dim))\n",
    "        if np.linalg.norm(X_uv - c_u) > r_u:\n",
    "            dX_uv += 2 * beta * (X_uv - c_u)\n",
    "        if np.linalg.norm(X_uv - c_v) > r_v:\n",
    "            dX_uv += 2 * beta * (X_uv - c_v)\n",
    "        embeddings[i] = X_uv - eta * dX_uv\n",
    "    \n",
    "    return embeddings"
   ]
  },
  {
   "cell_type": "markdown",
   "metadata": {},
   "source": [
    "### Test for the update of embeddings in the above optimization problem"
   ]
  },
  {
   "cell_type": "code",
   "execution_count": 51,
   "metadata": {},
   "outputs": [
    {
     "name": "stdout",
     "output_type": "stream",
     "text": [
      "[[  1.9996   0.    ]\n",
      " [  6.       0.    ]\n",
      " [ 10.0004   0.    ]]\n"
     ]
    }
   ],
   "source": [
    "embeddings = np.array([[2, 0], [6, 0], [10, 0]], dtype=float)\n",
    "centers = np.array([[0, 0], [4, 0], [8, 0], [12, 0]], dtype=float)\n",
    "radii = np.array([[1], [3], [3], [1]], dtype=float)\n",
    "edge_map = {0:(1, 2), 1:(2, 3), 2:(3, 4)}\n",
    "nodes = np.array([1, 2, 3, 4])\n",
    "new_embeddings = update_embeddings(embeddings, centers, radii, edge_map, nodes)\n",
    "print(new_embeddings)"
   ]
  },
  {
   "cell_type": "markdown",
   "metadata": {},
   "source": [
    "## Updation of Sphere : radius length and center locations\n",
    "\n",
    "The third and final step of the alternating gradient update technique we have used is to calculate the gradient combining second and third terms in the optimization objective and then update $X$ and $C$, keeping $X_{uv}$ constant. Let us calculate the gradients and modify the radii and centers, mathematically:\n",
    "\n",
    "$\\begin{equation}\n",
    "\\frac{\\partial F}{\\partial R_u} = 2 \\alpha R_u - 2 \\beta R_u \\sum_{v \\in N(u)}{\\mathbb{1}\\big( \\left\\Vert X_{uv} - C_{v} \\right\\Vert^2 - R_v^2 \\big)}\n",
    "\\end{equation}$\n",
    "\n",
    "$R_u = R_u - \\eta * \\frac{\\partial F}{\\partial R_u}$\n",
    "\n",
    "$\\nabla_{C_u} F= 2 \\beta \\sum_{v \\in N(u)}{\\big(C_u - X_{uv}\\big) * \\mathbb{1}\\big( \\left\\Vert X_{uv} - C_{v} \\right\\Vert^2 - R_v^2 \\big) }$\n",
    "\n",
    "$C_u = C_u - \\eta * \\nabla_{C_u} F$\n",
    "\n",
    "In the above, $F = F_2 + F_3$, where $F_2$, $F_3$ represent the second and third term respectively in the objective function."
   ]
  },
  {
   "cell_type": "code",
   "execution_count": 55,
   "metadata": {},
   "outputs": [],
   "source": [
    "def update_sphere(embeddings, centers, radii, edge_map, nodes, alpha=0.3, beta=0.1, eta=0.1):\n",
    "    # Update radius and centers using gradients\n",
    "    node_count = len(nodes)\n",
    "    edge_count = embeddings.shape[0]\n",
    "    embed_dim = embeddings.shape[1]\n",
    "    dradii = np.zeros((node_count, 1))\n",
    "    dcenters = np.zeros((node_count, embed_dim))\n",
    "    for i in range(edge_count):\n",
    "        edge = edge_map[i]\n",
    "        n_u = edge[0]\n",
    "        n_v = edge[1]\n",
    "        n_u_ind = np.where(nodes == n_u)\n",
    "        n_v_ind = np.where(nodes == n_v)\n",
    "        X_uv = embeddings[i]\n",
    "        c_u = centers[n_u_ind]\n",
    "        c_v = centers[n_v_ind]\n",
    "        r_u = radii[n_u_ind]\n",
    "        r_v = radii[n_v_ind]\n",
    "        if np.linalg.norm(X_uv - c_u) > r_u:\n",
    "            dradii[n_u_ind] -= 2*beta*r_u\n",
    "            dcenters[n_u_ind] += 2*beta*(c_u - X_uv)\n",
    "        \n",
    "        if np.linalg.norm(X_uv - c_v) > r_v:\n",
    "            dradii[n_v_ind] -= 2*beta*r_v\n",
    "            dcenters[n_v_ind] += 2*beta*(c_v - X_uv)\n",
    "    \n",
    "    for i in range(node_count):\n",
    "        r_u = radii[i]\n",
    "        dradii[i] += 2*alpha*r_u\n",
    "        \n",
    "    radii -= eta * dradii\n",
    "    centers -= eta * dcenters\n",
    "\n",
    "    return radii, centers"
   ]
  },
  {
   "cell_type": "markdown",
   "metadata": {},
   "source": [
    "### Test for update of radii and centers in the above optimization problem"
   ]
  },
  {
   "cell_type": "code",
   "execution_count": 56,
   "metadata": {},
   "outputs": [
    {
     "name": "stdout",
     "output_type": "stream",
     "text": [
      "[[  0.04   0.  ]\n",
      " [  4.     0.  ]\n",
      " [  8.     0.  ]\n",
      " [ 11.96   0.  ]]\n",
      "[[ 0.96]\n",
      " [ 1.88]\n",
      " [ 1.88]\n",
      " [ 0.96]]\n"
     ]
    }
   ],
   "source": [
    "embeddings = np.array([[2, 0], [6, 0], [10, 0]], dtype=float)\n",
    "centers = np.array([[0, 0], [4, 0], [8, 0], [12, 0]], dtype=float)\n",
    "radii = np.array([[1.], [2.], [2.], [1.]], dtype=float)\n",
    "edge_map = {0:(1, 2), 1:(2, 3), 2:(3, 4)}\n",
    "nodes = np.array([1, 2, 3, 4])\n",
    "updated_radii, updated_centers = update_sphere(embeddings, centers, radii, edge_map, nodes)\n",
    "print(updated_centers)\n",
    "print(updated_radii)"
   ]
  }
 ],
 "metadata": {
  "kernelspec": {
   "display_name": "Python 3",
   "language": "python",
   "name": "python3"
  },
  "language_info": {
   "codemirror_mode": {
    "name": "ipython",
    "version": 2
   },
   "file_extension": ".py",
   "mimetype": "text/x-python",
   "name": "python",
   "nbconvert_exporter": "python",
   "pygments_lexer": "ipython2",
   "version": "2.7.15"
  }
 },
 "nbformat": 4,
 "nbformat_minor": 2
}
